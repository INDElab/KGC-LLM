{
 "cells": [
  {
   "cell_type": "code",
   "execution_count": null,
   "metadata": {},
   "outputs": [],
   "source": []
  },
  {
   "cell_type": "code",
   "execution_count": 1,
   "metadata": {},
   "outputs": [],
   "source": [
    "import json\n",
    "import os"
   ]
  },
  {
   "cell_type": "code",
   "execution_count": 2,
   "metadata": {},
   "outputs": [],
   "source": [
    "rebel_path = \"/home/finapolat/GenIE/data/rebel\"\n",
    "\n",
    "test_data = []\n",
    "with open(os.path.join(rebel_path, \"en_test.jsonl\"), 'r', encoding='utf-8') as f:\n",
    "    for line in f:\n",
    "        test_data.append(json.loads(line))\n",
    "        \n",
    "val_data = []    \n",
    "with open(os.path.join(rebel_path, \"en_val_small.jsonl\"), 'r', encoding='utf-8') as f:\n",
    "    for line in f:\n",
    "        val_data.append(json.loads(line))"
   ]
  },
  {
   "cell_type": "code",
   "execution_count": 3,
   "metadata": {},
   "outputs": [
    {
     "name": "stdout",
     "output_type": "stream",
     "text": [
      "173601\n",
      "15127\n"
     ]
    }
   ],
   "source": [
    "print(len(test_data))\n",
    "print(len(val_data))"
   ]
  },
  {
   "cell_type": "code",
   "execution_count": 4,
   "metadata": {},
   "outputs": [
    {
     "name": "stdout",
     "output_type": "stream",
     "text": [
      "Coburg Peak (, ) is the rocky peak rising to 783 m in Erul Heights on Trinity Peninsula in Graham Land, Antarctica. \n",
      "[['Trinity Peninsula', 'part of', 'Graham Land'], ['Trinity Peninsula', 'continent', 'Antarctica'], ['Graham Land', 'continent', 'Antarctica']]\n",
      "[['Q2038835', 'P361', 'Q618370'], ['Q2038835', 'P30', 'Q51'], ['Q618370', 'P30', 'Q51']]\n",
      "\n",
      "Siniger Nunatak (, ‘Nunatak Siniger’ \\'nu-na-tak si-'ni-ger\\) is the rocky hill rising to over 500 m in the upper course of Russell East Glacier on Trinity Peninsula in Graham Land, Antarctica. \n",
      "[['Trinity Peninsula', 'part of', 'Graham Land'], ['Graham Land', 'continent', 'Antarctica']]\n",
      "[['Q2038835', 'P361', 'Q618370'], ['Q618370', 'P30', 'Q51']]\n",
      "\n",
      "Harald Kaas (19 May 1868 – 5 December 1953) was a Norwegian architect. \n",
      "[['Harald Kaas', 'date of birth', '19 May 1868'], ['Harald Kaas', 'date of death', '5 December 1953']]\n",
      "[['Q5653840', 'P569', '1868-05-19T00:00:00Z^^http://www.w3.org/2001/XMLSchema#dateTime'], ['Q5653840', 'P570', '1953-12-05T00:00:00Z^^http://www.w3.org/2001/XMLSchema#dateTime']]\n",
      "\n",
      "He studied at the Norwegian National Academy of Craft and Art Industry, then at Baugewerkschule in Eckernförde and finally at Polytechnicum in Munich. \n",
      "[['Polytechnicum', 'headquarters location', 'Munich']]\n",
      "[['Q157808', 'P159', 'Q1726']]\n",
      "\n",
      "He was employed by the Norwegian State Railways from 1908 to 1914, and designed stations on the Arendal Line, Bergen Line and Solør Line for the company. \n",
      "[['Bergen Line', 'owned by', 'Norwegian State Railways']]\n",
      "[['Q777060', 'P127', 'Q7061278']]\n",
      "\n"
     ]
    }
   ],
   "source": [
    "for instance in test_data[:5]:\n",
    "    print(instance['input'])\n",
    "    #print(instance['meta_obj'])\n",
    "    print(instance['meta_obj']['substring_triples'])\n",
    "    print(instance['meta_obj']['non_formatted_wikidata_id_output'])\n",
    "    print() "
   ]
  },
  {
   "cell_type": "code",
   "execution_count": 5,
   "metadata": {},
   "outputs": [
    {
     "name": "stdout",
     "output_type": "stream",
     "text": [
      "Chelopech Hill (, ‘Halm Chelopech’ \\'h&lm che-lo-'pech\\) is the ice-covered hill rising to 946 m in the north foothills of Detroit Plateau on Trinity Peninsula in Graham Land, Antarctica. \n",
      "[['Trinity Peninsula', 'part of', 'Graham Land'], ['Trinity Peninsula', 'continent', 'Antarctica'], ['Graham Land', 'continent', 'Antarctica']]\n",
      "[['Q2038835', 'P361', 'Q618370'], ['Q2038835', 'P30', 'Q51'], ['Q618370', 'P30', 'Q51']]\n",
      "\n",
      "Mount Gardner () is a mountain, high, standing west of Mount Tyree in the west-central part of the Sentinel Range, in the Ellsworth Mountains of Antarctica. \n",
      "[['Mount Gardner', 'mountain range', 'Sentinel Range'], ['Sentinel Range', 'mountain range', 'Ellsworth Mountains'], ['Ellsworth Mountains', 'has part', 'Sentinel Range']]\n",
      "[['Q3321843', 'P4552', 'Q1778845'], ['Q1778845', 'P4552', 'Q1139110'], ['Q1139110', 'P527', 'Q1778845']]\n",
      "\n",
      "Goodenough Glacier () is a broad sweeping glacier to the south of the Batterbee Mountains, flowing from the west shore of Palmer Land, Antarctica, into George VI Sound and the George VI Ice Shelf. \n",
      "[['Goodenough Glacier', 'instance of', 'glacier'], ['Palmer Land', 'continent', 'Antarctica']]\n",
      "[['Q5583352', 'P31', 'Q35666'], ['Q1551170', 'P30', 'Q51']]\n",
      "\n",
      "The Edersee is an 11.8 km² reservoir in Waldeck-Frankenberg, Hesse, Germany with 199.3 million m³ of storage space. \n",
      "[['Edersee', 'located in the administrative territorial entity', 'Waldeck-Frankenberg'], ['Edersee', 'country', 'Germany'], ['Waldeck-Frankenberg', 'country', 'Germany'], ['Hesse', 'country', 'Germany'], ['Germany', 'contains administrative territorial entity', 'Hesse']]\n",
      "[['Q693343', 'P131', 'Q7893'], ['Q693343', 'P17', 'Q183'], ['Q7893', 'P17', 'Q183'], ['Q1199', 'P17', 'Q183'], ['Q183', 'P150', 'Q1199']]\n",
      "\n",
      "Rutgers Glacier () is a steep glacier on the west side of the Royal Society Range in the Ross Dependency, Antarctica. \n",
      "[['Rutgers Glacier', 'instance of', 'glacier'], ['Rutgers Glacier', 'mountain range', 'Royal Society Range'], ['Royal Society Range', 'continent', 'Antarctica'], ['Ross Dependency', 'continent', 'Antarctica']]\n",
      "[['Q7382792', 'P31', 'Q35666'], ['Q7382792', 'P4552', 'Q473357'], ['Q473357', 'P30', 'Q51'], ['Q203073', 'P30', 'Q51']]\n",
      "\n"
     ]
    }
   ],
   "source": [
    "for instance in val_data[:5]:\n",
    "    print(instance['input'])\n",
    "    #print(instance['meta_obj'])\n",
    "    print(instance['meta_obj']['substring_triples'])\n",
    "    print(instance['meta_obj']['non_formatted_wikidata_id_output'])\n",
    "    print() "
   ]
  },
  {
   "cell_type": "code",
   "execution_count": 6,
   "metadata": {},
   "outputs": [],
   "source": [
    "import torch\n",
    "from transformers import pipeline\n",
    "\n",
    "#generate_text = pipeline(model=\"databricks/dolly-v2-3b\", torch_dtype=torch.bfloat16,\n",
    " #                        trust_remote_code=True, device_map=\"auto\", return_full_text=True)\n",
    "generate_text = pipeline(model=\"google/flan-t5-large\", \n",
    "                         torch_dtype=torch.bfloat16, trust_remote_code=True,  \n",
    "                         device_map=\"auto\")#,\n",
    "                         #return_full_text=True)"
   ]
  },
  {
   "cell_type": "code",
   "execution_count": 7,
   "metadata": {},
   "outputs": [],
   "source": [
    "from langchain import PromptTemplate, LLMChain\n",
    "from langchain.llms import HuggingFacePipeline\n",
    "\n",
    "# template for an instrution with no input\n",
    "prompt = PromptTemplate(\n",
    "    input_variables=[\"input_text\"],\n",
    "    template= \"\"\"A triple has three components: subject, relations, object. Extract triples from the given text in the following format: (subject, relation, object). \n",
    "                Text to extract triples: {input_text} Extracted Triples: \"\"\")\n"
   ]
  },
  {
   "cell_type": "code",
   "execution_count": 8,
   "metadata": {},
   "outputs": [],
   "source": [
    "hf_pipeline = HuggingFacePipeline(pipeline=generate_text)\n",
    "llm_chain = LLMChain(llm=hf_pipeline, prompt=prompt, verbose=True)"
   ]
  },
  {
   "cell_type": "code",
   "execution_count": 9,
   "metadata": {},
   "outputs": [
    {
     "name": "stdout",
     "output_type": "stream",
     "text": [
      "\n",
      "\n",
      "\u001b[1m> Entering new LLMChain chain...\u001b[0m\n",
      "Prompt after formatting:\n",
      "\u001b[32;1m\u001b[1;3mA triple has three components: subject, relations, object. Extract triples from the given text in the following format: (subject, relation, object). \n",
      "                Text to extract triples: Coburg Peak (, ) is the rocky peak rising to 783 m in Erul Heights on Trinity Peninsula in Graham Land, Antarctica.  Extracted Triples: \u001b[0m\n",
      "\n",
      "\u001b[1m> Finished chain.\u001b[0m\n",
      "Input text: Coburg Peak (, ) is the rocky peak rising to 783 m in Erul Heights on Trinity Peninsula in Graham Land, Antarctica. \n",
      "Extraction: Coburg Peak, elevation, 783 m Coburg Peak, location, Erul Heights\n",
      "Extraction2: [{'generated_text': 'Coburg Peak, elevation, 783 m Coburg Peak, location, Erul Heights Coburg Peak, location, Graham Land Graham Land, country, Antarctica Coburg Peak, elevation, 0°N, 0°E .'}]\n",
      "\n",
      "\n",
      "\u001b[1m> Entering new LLMChain chain...\u001b[0m\n",
      "Prompt after formatting:\n",
      "\u001b[32;1m\u001b[1;3mA triple has three components: subject, relations, object. Extract triples from the given text in the following format: (subject, relation, object). \n",
      "                Text to extract triples: Siniger Nunatak (, ‘Nunatak Siniger’ \\'nu-na-tak si-'ni-ger\\) is the rocky hill rising to over 500 m in the upper course of Russell East Glacier on Trinity Peninsula in Graham Land, Antarctica.  Extracted Triples: \u001b[0m\n",
      "\n",
      "\u001b[1m> Finished chain.\u001b[0m\n",
      "Input text: Siniger Nunatak (, ‘Nunatak Siniger’ \\'nu-na-tak si-'ni-ger\\) is the rocky hill rising to over 500 m in the upper course of Russell East Glacier on Trinity Peninsula in Graham Land, Antarctica. \n",
      "Extraction: [TABLECONTEXT] [TITLE] Graham Land Siniger Nunat\n",
      "Extraction2: [{'generated_text': 'Coburg Peak, elevation, 783 m Coburg Peak, location, Erul Heights Coburg Peak, location, Graham Land Graham Land, country, Antarctica Coburg Peak, elevation, 0°N, 0°E .'}]\n",
      "\n",
      "\n",
      "\u001b[1m> Entering new LLMChain chain...\u001b[0m\n",
      "Prompt after formatting:\n",
      "\u001b[32;1m\u001b[1;3mA triple has three components: subject, relations, object. Extract triples from the given text in the following format: (subject, relation, object). \n",
      "                Text to extract triples: Harald Kaas (19 May 1868 – 5 December 1953) was a Norwegian architect.  Extracted Triples: \u001b[0m\n",
      "\n",
      "\u001b[1m> Finished chain.\u001b[0m\n",
      "Input text: Harald Kaas (19 May 1868 – 5 December 1953) was a Norwegian architect. \n",
      "Extraction: Harald Kaas, death_DATE 5 December 1953, death_PLACE\n",
      "Extraction2: [{'generated_text': 'Coburg Peak, elevation, 783 m Coburg Peak, location, Erul Heights Coburg Peak, location, Graham Land Graham Land, country, Antarctica Coburg Peak, elevation, 0°N, 0°E .'}]\n",
      "\n",
      "\n",
      "\u001b[1m> Entering new LLMChain chain...\u001b[0m\n",
      "Prompt after formatting:\n",
      "\u001b[32;1m\u001b[1;3mA triple has three components: subject, relations, object. Extract triples from the given text in the following format: (subject, relation, object). \n",
      "                Text to extract triples: He studied at the Norwegian National Academy of Craft and Art Industry, then at Baugewerkschule in Eckernförde and finally at Polytechnicum in Munich.  Extracted Triples: \u001b[0m\n",
      "\n",
      "\u001b[1m> Finished chain.\u001b[0m\n",
      "Input text: He studied at the Norwegian National Academy of Craft and Art Industry, then at Baugewerkschule in Eckernförde and finally at Polytechnicum in Munich. \n",
      "Extraction: [TABLECONTEXT] [TITLE] Norwegian National Academy of Craft and\n",
      "Extraction2: [{'generated_text': 'Coburg Peak, elevation, 783 m Coburg Peak, location, Erul Heights Coburg Peak, location, Graham Land Graham Land, country, Antarctica Coburg Peak, elevation, 0°N, 0°E .'}]\n",
      "\n",
      "\n",
      "\u001b[1m> Entering new LLMChain chain...\u001b[0m\n",
      "Prompt after formatting:\n",
      "\u001b[32;1m\u001b[1;3mA triple has three components: subject, relations, object. Extract triples from the given text in the following format: (subject, relation, object). \n",
      "                Text to extract triples: He was employed by the Norwegian State Railways from 1908 to 1914, and designed stations on the Arendal Line, Bergen Line and Solør Line for the company.  Extracted Triples: \u001b[0m\n",
      "\n",
      "\u001b[1m> Finished chain.\u001b[0m\n",
      "Input text: He was employed by the Norwegian State Railways from 1908 to 1914, and designed stations on the Arendal Line, Bergen Line and Solør Line for the company. \n",
      "Extraction: [TABLECONTEXT] [TITLE] Norwegian State Railways [T\n",
      "Extraction2: [{'generated_text': 'Coburg Peak, elevation, 783 m Coburg Peak, location, Erul Heights Coburg Peak, location, Graham Land Graham Land, country, Antarctica Coburg Peak, elevation, 0°N, 0°E .'}]\n"
     ]
    }
   ],
   "source": [
    "for d in test_data[:5]:\n",
    "    input_text = d[\"input\"]\n",
    "    prompt = prompt.format(input_text=input_text)\n",
    "    #print(prompt)\n",
    "    extraction = llm_chain.run(input_text=input_text)\n",
    "    extraction2 = generate_text(prompt, max_length=1000, min_new_tokens=50, num_return_sequences=1, num_beams=1,)\n",
    "    \n",
    "    print(f\"Input text: {input_text}\")\n",
    "    print(f\"Extraction: {extraction}\")\n",
    "    print(f\"Extraction2: {extraction2}\")"
   ]
  },
  {
   "cell_type": "code",
   "execution_count": 10,
   "metadata": {},
   "outputs": [],
   "source": [
    "from langchain.prompts.example_selector import SemanticSimilarityExampleSelector\n",
    "from langchain.vectorstores import Chroma\n",
    "from langchain.embeddings import HuggingFaceEmbeddings\n",
    "from langchain.prompts import FewShotPromptTemplate, PromptTemplate\n",
    "\n",
    "example_prompt = PromptTemplate(\n",
    "    input_variables=[\"input_text\", \"target_triples\"],\n",
    "    template=\"\"\"A triple has three components: subject, relations, object. Extract triples from the given text in the following format: (subject, relation, object). \n",
    "                Text to extract triples: {input_text} Extracted Triples: {target_triples}\"\"\"\n",
    ")"
   ]
  },
  {
   "cell_type": "code",
   "execution_count": 11,
   "metadata": {},
   "outputs": [],
   "source": [
    "examples = []\n",
    "\n",
    "for instance in val_data[:5]:\n",
    "    input_text = instance['input']\n",
    "    target_triples = str(instance['meta_obj']['substring_triples'])\n",
    "    examples.append({\"input_text\": input_text, \"target_triples\": target_triples})"
   ]
  },
  {
   "cell_type": "code",
   "execution_count": 12,
   "metadata": {},
   "outputs": [
    {
     "name": "stdout",
     "output_type": "stream",
     "text": [
      "{'input_text': \"Chelopech Hill (, ‘Halm Chelopech’ \\\\'h&lm che-lo-'pech\\\\) is the ice-covered hill rising to 946 m in the north foothills of Detroit Plateau on Trinity Peninsula in Graham Land, Antarctica. \", 'target_triples': \"[['Trinity Peninsula', 'part of', 'Graham Land'], ['Trinity Peninsula', 'continent', 'Antarctica'], ['Graham Land', 'continent', 'Antarctica']]\"}\n",
      "{'input_text': 'Mount Gardner () is a mountain, high, standing west of Mount Tyree in the west-central part of the Sentinel Range, in the Ellsworth Mountains of Antarctica. ', 'target_triples': \"[['Mount Gardner', 'mountain range', 'Sentinel Range'], ['Sentinel Range', 'mountain range', 'Ellsworth Mountains'], ['Ellsworth Mountains', 'has part', 'Sentinel Range']]\"}\n",
      "{'input_text': 'Goodenough Glacier () is a broad sweeping glacier to the south of the Batterbee Mountains, flowing from the west shore of Palmer Land, Antarctica, into George VI Sound and the George VI Ice Shelf. ', 'target_triples': \"[['Goodenough Glacier', 'instance of', 'glacier'], ['Palmer Land', 'continent', 'Antarctica']]\"}\n",
      "{'input_text': 'The Edersee is an 11.8\\xa0km² reservoir in Waldeck-Frankenberg, Hesse, Germany with 199.3 million m³ of storage space. ', 'target_triples': \"[['Edersee', 'located in the administrative territorial entity', 'Waldeck-Frankenberg'], ['Edersee', 'country', 'Germany'], ['Waldeck-Frankenberg', 'country', 'Germany'], ['Hesse', 'country', 'Germany'], ['Germany', 'contains administrative territorial entity', 'Hesse']]\"}\n",
      "{'input_text': 'Rutgers Glacier () is a steep glacier on the west side of the Royal Society Range in the Ross Dependency, Antarctica. ', 'target_triples': \"[['Rutgers Glacier', 'instance of', 'glacier'], ['Rutgers Glacier', 'mountain range', 'Royal Society Range'], ['Royal Society Range', 'continent', 'Antarctica'], ['Ross Dependency', 'continent', 'Antarctica']]\"}\n"
     ]
    }
   ],
   "source": [
    "for e in examples:\n",
    "    print(e)    "
   ]
  },
  {
   "cell_type": "code",
   "execution_count": 13,
   "metadata": {},
   "outputs": [
    {
     "name": "stderr",
     "output_type": "stream",
     "text": [
      "Using embedded DuckDB without persistence: data will be transient\n"
     ]
    }
   ],
   "source": [
    "example_selector = SemanticSimilarityExampleSelector.from_examples(\n",
    "    # This is the list of examples available to select from.\n",
    "    examples, \n",
    "    # This is the embedding class used to produce embeddings which are used to measure semantic similarity.\n",
    "    #HuggingFaceInstructEmbeddings(), \n",
    "    HuggingFaceEmbeddings(),\n",
    "    # This is the VectorStore class that is used to store the embeddings and do a similarity search over.\n",
    "    Chroma, \n",
    "    # This is the number of examples to produce.\n",
    "    k=2,\n",
    ")"
   ]
  },
  {
   "cell_type": "code",
   "execution_count": 14,
   "metadata": {},
   "outputs": [],
   "source": [
    "example_formatter_template = \"\"\"\n",
    "Document to extract triples: <> {input_text} <>\n",
    "Extracted triples from the give document: <> {target_triples} <>\n",
    "\"\"\"\n",
    "example_prompt = PromptTemplate(\n",
    "    input_variables=[\"input_text\", \"target_triples\"],\n",
    "    template=example_formatter_template,\n",
    ")"
   ]
  },
  {
   "cell_type": "code",
   "execution_count": 15,
   "metadata": {},
   "outputs": [],
   "source": [
    "# Finally, we create the `FewShotPromptTemplate` object.\n",
    "few_shot_prompt = FewShotPromptTemplate(\n",
    "    # These are the examples we want to insert into the prompt.\n",
    "    example_selector=example_selector,\n",
    "    # This is how we want to format the examples when we insert them into the prompt.\n",
    "    example_prompt=example_prompt,\n",
    "    # The prefix is some text that goes before the examples in the prompt.\n",
    "    # Usually, this consists of intructions.\n",
    "    prefix=\"\"\"A triple contains three componants: subject, relation, object. Extract extensive set of triples from the given document. \n",
    "    Here are some examples: \"\"\",\n",
    "    # The suffix is some text that goes after the examples in the prompt.\n",
    "    # Usually, this is where the user input will go\n",
    "    suffix=\"\"\"End of the examples.\n",
    "    Document to extract triples: <> {input} <> \\n Extracted triples from the given document: <> \"\"\",\n",
    "    # The input variables are the variables that the overall prompt expects.\n",
    "    input_variables=[\"input\"],\n",
    "    # The example_separator is the string we will use to join the prefix, examples, and suffix together with.\n",
    "    example_separator=\"\\n\",\n",
    ")"
   ]
  },
  {
   "cell_type": "code",
   "execution_count": 16,
   "metadata": {},
   "outputs": [
    {
     "name": "stdout",
     "output_type": "stream",
     "text": [
      "A triple contains three componants: subject, relation, object. Extract extensive set of triples from the given document. \n",
      "    Here are some examples: \n",
      "\n",
      "Document to extract triples: <> Mount Gardner () is a mountain, high, standing west of Mount Tyree in the west-central part of the Sentinel Range, in the Ellsworth Mountains of Antarctica.  <>\n",
      "Extracted triples from the give document: <> [['Mount Gardner', 'mountain range', 'Sentinel Range'], ['Sentinel Range', 'mountain range', 'Ellsworth Mountains'], ['Ellsworth Mountains', 'has part', 'Sentinel Range']] <>\n",
      "\n",
      "\n",
      "Document to extract triples: <> Goodenough Glacier () is a broad sweeping glacier to the south of the Batterbee Mountains, flowing from the west shore of Palmer Land, Antarctica, into George VI Sound and the George VI Ice Shelf.  <>\n",
      "Extracted triples from the give document: <> [['Goodenough Glacier', 'instance of', 'glacier'], ['Palmer Land', 'continent', 'Antarctica']] <>\n",
      "\n",
      "End of the examples.\n",
      "    Document to extract triples: <> Steve Bright is the creator of Bananaman which was last broadcast on April 15th 1986 by the BBC. <> \n",
      " Extracted triples from the given document: <> \n"
     ]
    }
   ],
   "source": [
    "print(few_shot_prompt.format(input=\"Steve Bright is the creator of Bananaman which was last broadcast on April 15th 1986 by the BBC.\"))"
   ]
  },
  {
   "cell_type": "code",
   "execution_count": 17,
   "metadata": {},
   "outputs": [],
   "source": [
    "llm_fewshot_chain = LLMChain(llm=hf_pipeline, prompt=few_shot_prompt, verbose=True)"
   ]
  },
  {
   "cell_type": "code",
   "execution_count": 18,
   "metadata": {},
   "outputs": [
    {
     "name": "stdout",
     "output_type": "stream",
     "text": [
      "\n",
      "\n",
      "\u001b[1m> Entering new LLMChain chain...\u001b[0m\n",
      "Prompt after formatting:\n",
      "\u001b[32;1m\u001b[1;3mA triple contains three componants: subject, relation, object. Extract extensive set of triples from the given document. \n",
      "    Here are some examples: \n",
      "\n",
      "Document to extract triples: <> Chelopech Hill (, ‘Halm Chelopech’ \\'h&lm che-lo-'pech\\) is the ice-covered hill rising to 946 m in the north foothills of Detroit Plateau on Trinity Peninsula in Graham Land, Antarctica.  <>\n",
      "Extracted triples from the give document: <> [['Trinity Peninsula', 'part of', 'Graham Land'], ['Trinity Peninsula', 'continent', 'Antarctica'], ['Graham Land', 'continent', 'Antarctica']] <>\n",
      "\n",
      "\n",
      "Document to extract triples: <> Mount Gardner () is a mountain, high, standing west of Mount Tyree in the west-central part of the Sentinel Range, in the Ellsworth Mountains of Antarctica.  <>\n",
      "Extracted triples from the give document: <> [['Mount Gardner', 'mountain range', 'Sentinel Range'], ['Sentinel Range', 'mountain range', 'Ellsworth Mountains'], ['Ellsworth Mountains', 'has part', 'Sentinel Range']] <>\n",
      "\n",
      "End of the examples.\n",
      "    Document to extract triples: <> Coburg Peak (, ) is the rocky peak rising to 783 m in Erul Heights on Trinity Peninsula in Graham Land, Antarctica.  <> \n",
      " Extracted triples from the given document: <> \u001b[0m\n"
     ]
    },
    {
     "name": "stderr",
     "output_type": "stream",
     "text": [
      "/home/finapolat/.local/lib/python3.10/site-packages/transformers/pipelines/base.py:1081: UserWarning: You seem to be using the pipelines sequentially on GPU. In order to maximize efficiency please use a dataset\n",
      "  warnings.warn(\n"
     ]
    },
    {
     "name": "stdout",
     "output_type": "stream",
     "text": [
      "\n",
      "\u001b[1m> Finished chain.\u001b[0m\n",
      "Input text: Coburg Peak (, ) is the rocky peak rising to 783 m in Erul Heights on Trinity Peninsula in Graham Land, Antarctica. \n",
      "Extraction: [['Coburg Peak', 'POSITIONS', 'Erul\n",
      "\n",
      "\n",
      "\u001b[1m> Entering new LLMChain chain...\u001b[0m\n",
      "Prompt after formatting:\n",
      "\u001b[32;1m\u001b[1;3mA triple contains three componants: subject, relation, object. Extract extensive set of triples from the given document. \n",
      "    Here are some examples: \n",
      "\n",
      "Document to extract triples: <> Chelopech Hill (, ‘Halm Chelopech’ \\'h&lm che-lo-'pech\\) is the ice-covered hill rising to 946 m in the north foothills of Detroit Plateau on Trinity Peninsula in Graham Land, Antarctica.  <>\n",
      "Extracted triples from the give document: <> [['Trinity Peninsula', 'part of', 'Graham Land'], ['Trinity Peninsula', 'continent', 'Antarctica'], ['Graham Land', 'continent', 'Antarctica']] <>\n",
      "\n",
      "\n",
      "Document to extract triples: <> Rutgers Glacier () is a steep glacier on the west side of the Royal Society Range in the Ross Dependency, Antarctica.  <>\n",
      "Extracted triples from the give document: <> [['Rutgers Glacier', 'instance of', 'glacier'], ['Rutgers Glacier', 'mountain range', 'Royal Society Range'], ['Royal Society Range', 'continent', 'Antarctica'], ['Ross Dependency', 'continent', 'Antarctica']] <>\n",
      "\n",
      "End of the examples.\n",
      "    Document to extract triples: <> Siniger Nunatak (, ‘Nunatak Siniger’ \\'nu-na-tak si-'ni-ger\\) is the rocky hill rising to over 500 m in the upper course of Russell East Glacier on Trinity Peninsula in Graham Land, Antarctica.  <> \n",
      " Extracted triples from the given document: <> \u001b[0m\n",
      "\n",
      "\u001b[1m> Finished chain.\u001b[0m\n",
      "Input text: Siniger Nunatak (, ‘Nunatak Siniger’ \\'nu-na-tak si-'ni-ger\\) is the rocky hill rising to over 500 m in the upper course of Russell East Glacier on Trinity Peninsula in Graham Land, Antarctica. \n",
      "Extraction: [['Siniger Nunatak', 'LOCATION', \n",
      "\n",
      "\n",
      "\u001b[1m> Entering new LLMChain chain...\u001b[0m\n",
      "Prompt after formatting:\n",
      "\u001b[32;1m\u001b[1;3mA triple contains three componants: subject, relation, object. Extract extensive set of triples from the given document. \n",
      "    Here are some examples: \n",
      "\n",
      "Document to extract triples: <> Chelopech Hill (, ‘Halm Chelopech’ \\'h&lm che-lo-'pech\\) is the ice-covered hill rising to 946 m in the north foothills of Detroit Plateau on Trinity Peninsula in Graham Land, Antarctica.  <>\n",
      "Extracted triples from the give document: <> [['Trinity Peninsula', 'part of', 'Graham Land'], ['Trinity Peninsula', 'continent', 'Antarctica'], ['Graham Land', 'continent', 'Antarctica']] <>\n",
      "\n",
      "\n",
      "Document to extract triples: <> The Edersee is an 11.8 km² reservoir in Waldeck-Frankenberg, Hesse, Germany with 199.3 million m³ of storage space.  <>\n",
      "Extracted triples from the give document: <> [['Edersee', 'located in the administrative territorial entity', 'Waldeck-Frankenberg'], ['Edersee', 'country', 'Germany'], ['Waldeck-Frankenberg', 'country', 'Germany'], ['Hesse', 'country', 'Germany'], ['Germany', 'contains administrative territorial entity', 'Hesse']] <>\n",
      "\n",
      "End of the examples.\n",
      "    Document to extract triples: <> Harald Kaas (19 May 1868 – 5 December 1953) was a Norwegian architect.  <> \n",
      " Extracted triples from the given document: <> \u001b[0m\n",
      "\n",
      "\u001b[1m> Finished chain.\u001b[0m\n",
      "Input text: Harald Kaas (19 May 1868 – 5 December 1953) was a Norwegian architect. \n",
      "Extraction: Harald Kaas NATIONALITY Norway Harald Kaas OC\n",
      "\n",
      "\n",
      "\u001b[1m> Entering new LLMChain chain...\u001b[0m\n",
      "Prompt after formatting:\n",
      "\u001b[32;1m\u001b[1;3mA triple contains three componants: subject, relation, object. Extract extensive set of triples from the given document. \n",
      "    Here are some examples: \n",
      "\n",
      "Document to extract triples: <> The Edersee is an 11.8 km² reservoir in Waldeck-Frankenberg, Hesse, Germany with 199.3 million m³ of storage space.  <>\n",
      "Extracted triples from the give document: <> [['Edersee', 'located in the administrative territorial entity', 'Waldeck-Frankenberg'], ['Edersee', 'country', 'Germany'], ['Waldeck-Frankenberg', 'country', 'Germany'], ['Hesse', 'country', 'Germany'], ['Germany', 'contains administrative territorial entity', 'Hesse']] <>\n",
      "\n",
      "\n",
      "Document to extract triples: <> Rutgers Glacier () is a steep glacier on the west side of the Royal Society Range in the Ross Dependency, Antarctica.  <>\n",
      "Extracted triples from the give document: <> [['Rutgers Glacier', 'instance of', 'glacier'], ['Rutgers Glacier', 'mountain range', 'Royal Society Range'], ['Royal Society Range', 'continent', 'Antarctica'], ['Ross Dependency', 'continent', 'Antarctica']] <>\n",
      "\n",
      "End of the examples.\n",
      "    Document to extract triples: <> He studied at the Norwegian National Academy of Craft and Art Industry, then at Baugewerkschule in Eckernförde and finally at Polytechnicum in Munich.  <> \n",
      " Extracted triples from the given document: <> \u001b[0m\n",
      "\n",
      "\u001b[1m> Finished chain.\u001b[0m\n",
      "Input text: He studied at the Norwegian National Academy of Craft and Art Industry, then at Baugewerkschule in Eckernförde and finally at Polytechnicum in Munich. \n",
      "Extraction: [['Norwegian National Academy of Craft and Art Industry', 'LO\n",
      "\n",
      "\n",
      "\u001b[1m> Entering new LLMChain chain...\u001b[0m\n",
      "Prompt after formatting:\n",
      "\u001b[32;1m\u001b[1;3mA triple contains three componants: subject, relation, object. Extract extensive set of triples from the given document. \n",
      "    Here are some examples: \n",
      "\n",
      "Document to extract triples: <> Rutgers Glacier () is a steep glacier on the west side of the Royal Society Range in the Ross Dependency, Antarctica.  <>\n",
      "Extracted triples from the give document: <> [['Rutgers Glacier', 'instance of', 'glacier'], ['Rutgers Glacier', 'mountain range', 'Royal Society Range'], ['Royal Society Range', 'continent', 'Antarctica'], ['Ross Dependency', 'continent', 'Antarctica']] <>\n",
      "\n",
      "\n",
      "Document to extract triples: <> The Edersee is an 11.8 km² reservoir in Waldeck-Frankenberg, Hesse, Germany with 199.3 million m³ of storage space.  <>\n",
      "Extracted triples from the give document: <> [['Edersee', 'located in the administrative territorial entity', 'Waldeck-Frankenberg'], ['Edersee', 'country', 'Germany'], ['Waldeck-Frankenberg', 'country', 'Germany'], ['Hesse', 'country', 'Germany'], ['Germany', 'contains administrative territorial entity', 'Hesse']] <>\n",
      "\n",
      "End of the examples.\n",
      "    Document to extract triples: <> He was employed by the Norwegian State Railways from 1908 to 1914, and designed stations on the Arendal Line, Bergen Line and Solør Line for the company.  <> \n",
      " Extracted triples from the given document: <> \u001b[0m\n",
      "\n",
      "\u001b[1m> Finished chain.\u001b[0m\n",
      "Input text: He was employed by the Norwegian State Railways from 1908 to 1914, and designed stations on the Arendal Line, Bergen Line and Solør Line for the company. \n",
      "Extraction: [['Norwegian State Railways', 'STATION_DEVEL\n"
     ]
    }
   ],
   "source": [
    "for d in test_data[:5]:\n",
    "    input_text = d[\"input\"]\n",
    "    extraction = llm_fewshot_chain.run(input=input_text)\n",
    "    print(f\"Input text: {input_text}\")\n",
    "    print(f\"Extraction: {extraction}\")"
   ]
  }
 ],
 "metadata": {
  "kernelspec": {
   "display_name": "base",
   "language": "python",
   "name": "python3"
  },
  "language_info": {
   "codemirror_mode": {
    "name": "ipython",
    "version": 3
   },
   "file_extension": ".py",
   "mimetype": "text/x-python",
   "name": "python",
   "nbconvert_exporter": "python",
   "pygments_lexer": "ipython3",
   "version": "3.10.9"
  },
  "orig_nbformat": 4
 },
 "nbformat": 4,
 "nbformat_minor": 2
}
